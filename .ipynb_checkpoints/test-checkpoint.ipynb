{
 "cells": [
  {
   "cell_type": "code",
   "execution_count": 1,
   "metadata": {
    "collapsed": false
   },
   "outputs": [
    {
     "name": "stdout",
     "output_type": "stream",
     "text": [
      "[]\n"
     ]
    }
   ],
   "source": [
    "line = \"  \\n\"\n",
    "r = list(\"\".join(line.split()))\n",
    "print(repr(r))"
   ]
  },
  {
   "cell_type": "code",
   "execution_count": 2,
   "metadata": {
    "collapsed": false
   },
   "outputs": [
    {
     "name": "stdout",
     "output_type": "stream",
     "text": [
      "[]\n"
     ]
    }
   ],
   "source": [
    "r1 = list(line.strip())\n",
    "print(repr(r1))"
   ]
  },
  {
   "cell_type": "code",
   "execution_count": 3,
   "metadata": {
    "collapsed": false
   },
   "outputs": [
    {
     "name": "stdout",
     "output_type": "stream",
     "text": [
      "['  \\n', '<author> Mathiesen, Kay\\n', \"<title> Indigenous Peoples' Rights to Culture and Individual Rights to Access\\n\", \"<abstract> Using the methods of philosophical analysis and concepts from moral and political philosophy Indigenous Peoples' human right to control access to their cultural information is defended. The concept of a 'right' is delineated and different types of rights are differentiated. The method of an 'overlapping consensus' is used. In attempting to articulate the moral foundation for Indigenous Peoples' rights to culture, we can start with justifications for limiting access that are already widely accepted within our society. These widely accepted justifications for controlling or limiting access to information include the claim that said information is (a) under copyright, (b) a trade or state secret, (c) harmful to some segment of society, or is (d) private or confidential. The moral grounds for each of these limitations on free access is explored. (a)-(c) are found to not provide an adequate ground for Indigenous People's rights to control access to their culture. The cultural rights of Indigenous Peoples are defended as a form of group privacy. Two possible moral dangers of this defense of indigenous peoples rights to culture are considered. It is shown that on a properly nuanced understanding of the contours of the Indigenous Peoples' rights to group privacy, they do not give rise to either of these dangers.\\n\", '\\n', '<author> Krishnamurthy, Prashant\\n', '<title> Information Dissemination and Information Assurance in Vehicular Networks: A Survey\\n', '<abstract> Vehicular networks aimed toward providing roadside services such as traffic alerts, estimated time to reach a destination, alternative routes, and in general improve the efficiency and safety on the road are emerging in both the United States and Europe. Information exchange in such networks occurs between vehicles (inter-vehicle communications) in an ad hoc manner and also with roadside base stations using so-called dedicated short range communication links. Research on technology related to vehicular networks is being conducted by many universities and is being widely reported in the mainstream media as well. Vehicular networks are thus expected to become an important part of community networks of the future. In this paper we will survey the different types of dissemination of information and the assurance of such information in vehicular networks. The paper will discuss the architecture of vehicular networks, classify different types of information exchange (safety, traffic related, and content) and different methods of information exchange (opportunistic exchange of resources between vehicles, vehicle assisted data delivery, cooperative downloading of information, etc.). Then we discuss information assurance issues in vehicular networks and survey the solutions proposed for ensuring authenticity/integrity of information, location privacy of vehicles, eviction of faulty or misbehaving vehicles from the information network (e.g., using reputation), etc.\\n', '\\n', '<author> Sarmiento, Johann; Stahl, Gerrry\\n']\n"
     ]
    }
   ],
   "source": [
    "with open(\"iConference_edited/iConf2008t.txt\", \"r\") as f:\n",
    "    file = list(f)[:10]\n",
    "file[0] = \"  \\n\"\n",
    "print(file)"
   ]
  },
  {
   "cell_type": "code",
   "execution_count": 4,
   "metadata": {
    "collapsed": false
   },
   "outputs": [
    {
     "name": "stdout",
     "output_type": "stream",
     "text": [
      "['', '<author>Mathiesen,Kay', \"<title>IndigenousPeoples'RightstoCultureandIndividualRightstoAccess\", \"<abstract>UsingthemethodsofphilosophicalanalysisandconceptsfrommoralandpoliticalphilosophyIndigenousPeoples'humanrighttocontrolaccesstotheirculturalinformationisdefended.Theconceptofa'right'isdelineatedanddifferenttypesofrightsaredifferentiated.Themethodofan'overlappingconsensus'isused.InattemptingtoarticulatethemoralfoundationforIndigenousPeoples'rightstoculture,wecanstartwithjustificationsforlimitingaccessthatarealreadywidelyacceptedwithinoursociety.Thesewidelyacceptedjustificationsforcontrollingorlimitingaccesstoinformationincludetheclaimthatsaidinformationis(a)undercopyright,(b)atradeorstatesecret,(c)harmfultosomesegmentofsociety,oris(d)privateorconfidential.Themoralgroundsforeachoftheselimitationsonfreeaccessisexplored.(a)-(c)arefoundtonotprovideanadequategroundforIndigenousPeople'srightstocontrolaccesstotheirculture.TheculturalrightsofIndigenousPeoplesaredefendedasaformofgroupprivacy.Twopossiblemoraldangersofthisdefenseofindigenouspeoplesrightstocultureareconsidered.ItisshownthatonaproperlynuancedunderstandingofthecontoursoftheIndigenousPeoples'rightstogroupprivacy,theydonotgiverisetoeitherofthesedangers.\", '', '<author>Krishnamurthy,Prashant', '<title>InformationDisseminationandInformationAssuranceinVehicularNetworks:ASurvey', '<abstract>Vehicularnetworksaimedtowardprovidingroadsideservicessuchastrafficalerts,estimatedtimetoreachadestination,alternativeroutes,andingeneralimprovetheefficiencyandsafetyontheroadareemerginginboththeUnitedStatesandEurope.Informationexchangeinsuchnetworksoccursbetweenvehicles(inter-vehiclecommunications)inanadhocmannerandalsowithroadsidebasestationsusingso-calleddedicatedshortrangecommunicationlinks.Researchontechnologyrelatedtovehicularnetworksisbeingconductedbymanyuniversitiesandisbeingwidelyreportedinthemainstreammediaaswell.Vehicularnetworksarethusexpectedtobecomeanimportantpartofcommunitynetworksofthefuture.Inthispaperwewillsurveythedifferenttypesofdisseminationofinformationandtheassuranceofsuchinformationinvehicularnetworks.Thepaperwilldiscussthearchitectureofvehicularnetworks,classifydifferenttypesofinformationexchange(safety,trafficrelated,andcontent)anddifferentmethodsofinformationexchange(opportunisticexchangeofresourcesbetweenvehicles,vehicleassisteddatadelivery,cooperativedownloadingofinformation,etc.).Thenwediscussinformationassuranceissuesinvehicularnetworksandsurveythesolutionsproposedforensuringauthenticity/integrityofinformation,locationprivacyofvehicles,evictionoffaultyormisbehavingvehiclesfromtheinformationnetwork(e.g.,usingreputation),etc.', '', '<author>Sarmiento,Johann;Stahl,Gerrry']\n"
     ]
    }
   ],
   "source": [
    "l1 = []\n",
    "for item in file:\n",
    "    l1.append(\"\".join(item.split()))\n",
    "\n",
    "print(l1)"
   ]
  },
  {
   "cell_type": "code",
   "execution_count": 5,
   "metadata": {
    "collapsed": false
   },
   "outputs": [
    {
     "name": "stdout",
     "output_type": "stream",
     "text": [
      "['', '<author> Mathiesen, Kay', \"<title> Indigenous Peoples' Rights to Culture and Individual Rights to Access\", \"<abstract> Using the methods of philosophical analysis and concepts from moral and political philosophy Indigenous Peoples' human right to control access to their cultural information is defended. The concept of a 'right' is delineated and different types of rights are differentiated. The method of an 'overlapping consensus' is used. In attempting to articulate the moral foundation for Indigenous Peoples' rights to culture, we can start with justifications for limiting access that are already widely accepted within our society. These widely accepted justifications for controlling or limiting access to information include the claim that said information is (a) under copyright, (b) a trade or state secret, (c) harmful to some segment of society, or is (d) private or confidential. The moral grounds for each of these limitations on free access is explored. (a)-(c) are found to not provide an adequate ground for Indigenous People's rights to control access to their culture. The cultural rights of Indigenous Peoples are defended as a form of group privacy. Two possible moral dangers of this defense of indigenous peoples rights to culture are considered. It is shown that on a properly nuanced understanding of the contours of the Indigenous Peoples' rights to group privacy, they do not give rise to either of these dangers.\", '', '<author> Krishnamurthy, Prashant', '<title> Information Dissemination and Information Assurance in Vehicular Networks: A Survey', '<abstract> Vehicular networks aimed toward providing roadside services such as traffic alerts, estimated time to reach a destination, alternative routes, and in general improve the efficiency and safety on the road are emerging in both the United States and Europe. Information exchange in such networks occurs between vehicles (inter-vehicle communications) in an ad hoc manner and also with roadside base stations using so-called dedicated short range communication links. Research on technology related to vehicular networks is being conducted by many universities and is being widely reported in the mainstream media as well. Vehicular networks are thus expected to become an important part of community networks of the future. In this paper we will survey the different types of dissemination of information and the assurance of such information in vehicular networks. The paper will discuss the architecture of vehicular networks, classify different types of information exchange (safety, traffic related, and content) and different methods of information exchange (opportunistic exchange of resources between vehicles, vehicle assisted data delivery, cooperative downloading of information, etc.). Then we discuss information assurance issues in vehicular networks and survey the solutions proposed for ensuring authenticity/integrity of information, location privacy of vehicles, eviction of faulty or misbehaving vehicles from the information network (e.g., using reputation), etc.', '', '<author> Sarmiento, Johann; Stahl, Gerrry']\n"
     ]
    }
   ],
   "source": [
    "l2 = []\n",
    "for item in file:\n",
    "    l2.append(item.strip())\n",
    "\n",
    "print(l2)"
   ]
  },
  {
   "cell_type": "code",
   "execution_count": 6,
   "metadata": {
    "collapsed": false
   },
   "outputs": [
    {
     "name": "stdout",
     "output_type": "stream",
     "text": [
      "('title', \"Indigenous Peoples' Rights to Culture and Individual Rights to Access\")\n"
     ]
    }
   ],
   "source": [
    "def parse_string(string):\n",
    "    # string_key.lower()\n",
    "    string = \" \".join(string.split()) # remove duplicate spaces\n",
    "    no_whitespace = \"\".join(string.split())\n",
    "    index_right_a = no_whitespace.find(\">\") # find the index of right left angle braket\n",
    "    string_key = no_whitespace[1:index_right_a]\n",
    "    string_value = string[index_right_a+2:]\n",
    "    return string_key, string_value\n",
    "print(parse_string(\"<title> Indigenous Peoples' Rights to Culture and Individual Rights to Access\"))"
   ]
  },
  {
   "cell_type": "code",
   "execution_count": 7,
   "metadata": {
    "collapsed": false
   },
   "outputs": [
    {
     "data": {
      "text/plain": [
       "254"
      ]
     },
     "execution_count": 7,
     "metadata": {},
     "output_type": "execute_result"
    }
   ],
   "source": [
    "a = \"Using the methods of philosophical analysis and concepts from moral and political philosophy Indigenous Peoples' human right to control access to their cultural information is defended. The concept of a 'right' is delineated and different types of rights\"\n",
    "len(a)"
   ]
  },
  {
   "cell_type": "code",
   "execution_count": 8,
   "metadata": {
    "collapsed": false
   },
   "outputs": [
    {
     "data": {
      "text/plain": [
       "43"
      ]
     },
     "execution_count": 8,
     "metadata": {},
     "output_type": "execute_result"
    }
   ],
   "source": [
    "aa = \"Using the methods of philosophical analysis\"\n",
    "len(aa)"
   ]
  },
  {
   "cell_type": "code",
   "execution_count": 9,
   "metadata": {
    "collapsed": false
   },
   "outputs": [
    {
     "name": "stdout",
     "output_type": "stream",
     "text": [
      "['Using', 'the', 'methods', 'of', 'philosophical', 'analysis']\n"
     ]
    }
   ],
   "source": [
    "a3 = aa.split()\n",
    "print(a3)"
   ]
  },
  {
   "cell_type": "code",
   "execution_count": 10,
   "metadata": {
    "collapsed": false
   },
   "outputs": [
    {
     "name": "stdout",
     "output_type": "stream",
     "text": [
      "['Stiller, Juliane', 'Petras, Vivien', 'Gäde, Maria', 'Isaac, Antoine']\n"
     ]
    }
   ],
   "source": [
    "string = 'Stiller, Juliane; Petras, Vivien; Gäde, Maria; Isaac, Antoine'\n",
    "list1 = string.split(\"; \")\n",
    "print(list1)"
   ]
  },
  {
   "cell_type": "code",
   "execution_count": 12,
   "metadata": {
    "collapsed": false
   },
   "outputs": [
    {
     "name": "stdout",
     "output_type": "stream",
     "text": [
      "['i', 'me', 'my', 'myself', 'we', 'our', 'ours', 'ourselves', 'you', 'your', 'yours', 'yourself', 'yourselves', 'he', 'him', 'his', 'himself', 'she', 'her', 'hers', 'herself', 'it', 'its', 'itself', 'they', 'them', 'their', 'theirs', 'themselves', 'what', 'which', 'who', 'whom', 'this', 'that', 'these', 'those', 'am', 'is', 'are', 'was', 'were', 'be', 'been', 'being', 'have', 'has', 'had', 'having', 'do', 'does', 'did', 'doing', 'a', 'an', 'the', 'and', 'but', 'if', 'or', 'because', 'as', 'until', 'while', 'of', 'at', 'by', 'for', 'with', 'about', 'against', 'between', 'into', 'through', 'during', 'before', 'after', 'above', 'below', 'to', 'from', 'up', 'down', 'in', 'out', 'on', 'off', 'over', 'under', 'again', 'further', 'then', 'once', 'here', 'there', 'when', 'where', 'why', 'how', 'all', 'any', 'both', 'each', 'few', 'more', 'most', 'other', 'some', 'such', 'no', 'nor', 'not', 'only', 'own', 'same', 'so', 'than', 'too', 'very', 's', 't', 'can', 'will', 'just', 'don', 'should', 'now', 'd', 'll', 'm', 'o', 're', 've', 'y', 'ain', 'aren', 'couldn', 'didn', 'doesn', 'hadn', 'hasn', 'haven', 'isn', 'ma', 'mightn', 'mustn', 'needn', 'shan', 'shouldn', 'wasn', 'weren', 'won', 'wouldn']\n",
      "/Users/yawenzhang/PycharmProjects/DC/CKM/lec/task_2\n"
     ]
    }
   ],
   "source": [
    "stopwords=[word.strip().lower() for word in open(\"english_stopwords.txt\")]\n",
    "print(stopwords)\n",
    "import os\n",
    "print(os.getcwd())\n"
   ]
  },
  {
   "cell_type": "code",
   "execution_count": 14,
   "metadata": {
    "collapsed": false
   },
   "outputs": [
    {
     "name": "stdout",
     "output_type": "stream",
     "text": [
      "<_io.TextIOWrapper name='english_stopwords.txt' mode='r' encoding='UTF-8'>\n"
     ]
    }
   ],
   "source": [
    "a = open(\"english_stopwords.txt\")\n",
    "print(a)"
   ]
  },
  {
   "cell_type": "code",
   "execution_count": null,
   "metadata": {
    "collapsed": true
   },
   "outputs": [],
   "source": []
  }
 ],
 "metadata": {
  "anaconda-cloud": {},
  "kernelspec": {
   "display_name": "Python 3",
   "language": "python",
   "name": "python3"
  },
  "language_info": {
   "codemirror_mode": {
    "name": "ipython",
    "version": 3
   },
   "file_extension": ".py",
   "mimetype": "text/x-python",
   "name": "python",
   "nbconvert_exporter": "python",
   "pygments_lexer": "ipython3",
   "version": "3.5.1"
  }
 },
 "nbformat": 4,
 "nbformat_minor": 0
}
